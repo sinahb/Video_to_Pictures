{
 "cells": [
  {
   "cell_type": "code",
   "execution_count": null,
   "id": "a312527d",
   "metadata": {},
   "outputs": [],
   "source": [
    "import cv2\n",
    "import os\n",
    "\n",
    "# مسیر ویدئو ورودی\n",
    "video_path = \"VID_20241111_112614.mp4\"\n",
    "\n",
    "# پوشه ذخیره تصاویر\n",
    "output_folder = \"frames\"\n",
    "os.makedirs(output_folder, exist_ok=True)\n",
    "\n",
    "# باز کردن ویدئو\n",
    "cap = cv2.VideoCapture(video_path)\n",
    "\n",
    "# بررسی باز شدن فایل ویدئو\n",
    "if not cap.isOpened():\n",
    "    print(\"خطا در باز کردن ویدئو\")\n",
    "    exit()\n",
    "\n",
    "frame_count = 0\n",
    "\n",
    "# خواندن فریم‌ها از ویدئو\n",
    "while True:\n",
    "    ret, frame = cap.read()\n",
    "    if not ret:\n",
    "        break  # اگر فریمی باقی نمانده باشد، حلقه متوقف می‌شود\n",
    "\n",
    "    # ذخیره هر فریم به‌صورت تصویر\n",
    "    frame_filename = os.path.join(output_folder, f\"frame_{frame_count:04d}.jpg\")\n",
    "    cv2.imwrite(frame_filename, frame)\n",
    "    print(f\"ذخیره شد: {frame_filename}\")\n",
    "\n",
    "    frame_count += 1\n",
    "\n",
    "# آزاد کردن منابع\n",
    "cap.release()\n",
    "print(f\"تعداد {frame_count} فریم ذخیره شد.\")"
   ]
  }
 ],
 "metadata": {
  "kernelspec": {
   "display_name": "Python 3 (ipykernel)",
   "language": "python",
   "name": "python3"
  },
  "language_info": {
   "codemirror_mode": {
    "name": "ipython",
    "version": 3
   },
   "file_extension": ".py",
   "mimetype": "text/x-python",
   "name": "python",
   "nbconvert_exporter": "python",
   "pygments_lexer": "ipython3",
   "version": "3.10.9"
  }
 },
 "nbformat": 4,
 "nbformat_minor": 5
}
